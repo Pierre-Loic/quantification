{
  "cells": [
    {
      "cell_type": "markdown",
      "id": "134aff8f-32b1-410d-ab65-d47cc6338227",
      "metadata": {
        "id": "134aff8f-32b1-410d-ab65-d47cc6338227"
      },
      "source": [
        "# 📒 Notebook d'évaluation du modèle au format \"model.keras\" (version Colab)\n",
        "\n",
        "Ce dernier a pour objectif de vous aider à **vérifier l'exportation correcte de votre modèle au format de sortie de Keras** et à valider la bonne généralisation de votre modèle. Pour l'évaluation finale, un autre jeu de données sera utilisé.\n",
        "\n",
        "## 🛠️ Installation et importation des bibliothèques Python"
      ]
    },
    {
      "cell_type": "code",
      "execution_count": 1,
      "id": "8d44fd1a-cd54-4a9a-b5d5-1e7650571bae",
      "metadata": {
        "id": "8d44fd1a-cd54-4a9a-b5d5-1e7650571bae"
      },
      "outputs": [],
      "source": [
        "import urllib.request\n",
        "import numpy as np\n",
        "import matplotlib.pyplot as plt\n",
        "from keras.models import load_model\n",
        "from sklearn.metrics import classification_report, accuracy_score\n",
        "from sklearn.preprocessing import LabelEncoder\n",
        "from tensorflow.keras.utils import to_categorical\n",
        "import ipywidgets as widgets\n",
        "from IPython.display import display\n",
        "from google.colab import files"
      ]
    },
    {
      "cell_type": "code",
      "execution_count": 2,
      "id": "b5c8e628-e0ca-45cc-beab-88422f8897b5",
      "metadata": {
        "id": "b5c8e628-e0ca-45cc-beab-88422f8897b5"
      },
      "outputs": [],
      "source": [
        "def to_categorical(y, num_classes=None, dtype='float32'):\n",
        "    \"\"\"\n",
        "    Convertit un vecteur de classes en une matrice d'encodage one-hot.\n",
        "\n",
        "    Args:\n",
        "        y (array-like): Vecteur d'étiquettes (entiers).\n",
        "        num_classes (int): Nombre total de classes. Si None, sera déterminé automatiquement.\n",
        "        dtype (str): Type des données de sortie (par défaut 'float32').\n",
        "\n",
        "    Returns:\n",
        "        numpy.ndarray: Matrice d'encodage one-hot.\n",
        "    \"\"\"\n",
        "    y = np.array(y, dtype='int')\n",
        "    if not num_classes:\n",
        "        num_classes = np.max(y) + 1\n",
        "    one_hot = np.zeros((y.shape[0], num_classes), dtype=dtype)\n",
        "    one_hot[np.arange(y.shape[0]), y] = 1\n",
        "    return one_hot"
      ]
    },
    {
      "cell_type": "markdown",
      "id": "955b265f-bf00-44aa-beb5-8de3b9a7f8bd",
      "metadata": {
        "id": "955b265f-bf00-44aa-beb5-8de3b9a7f8bd"
      },
      "source": [
        "## Téléchargement du jeu de données d'évaluation"
      ]
    },
    {
      "cell_type": "code",
      "execution_count": 3,
      "id": "7f12901d-3d21-40d6-adc3-a46b5c2aa4b9",
      "metadata": {
        "colab": {
          "base_uri": "https://localhost:8080/"
        },
        "id": "7f12901d-3d21-40d6-adc3-a46b5c2aa4b9",
        "outputId": "2acd1378-2efe-4728-8da7-c90e6c345205"
      },
      "outputs": [
        {
          "output_type": "stream",
          "name": "stdout",
          "text": [
            "Fichier téléchargé : dataset_evaluation.npz\n"
          ]
        }
      ],
      "source": [
        "file_url = \"https://gricad-gitlab.univ-grenoble-alpes.fr/phelma-sicom/2a/4pmsiia4-td/-/raw/main/content/3_mini-projet/dataset_evaluation.npz?ref_type=heads&inline=false\"\n",
        "local_filename = \"dataset_evaluation.npz\"\n",
        "urllib.request.urlretrieve(file_url, local_filename)\n",
        "print(f\"Fichier téléchargé : {local_filename}\")"
      ]
    },
    {
      "cell_type": "markdown",
      "id": "a7b1c6f5-a803-43d4-b65a-d74b4e2f8ed7",
      "metadata": {
        "id": "a7b1c6f5-a803-43d4-b65a-d74b4e2f8ed7"
      },
      "source": [
        "## Téléchargement de votre modèle entrainé avec Keras"
      ]
    },
    {
      "cell_type": "code",
      "execution_count": 4,
      "id": "deca1ffb-29be-471d-a054-198c8a4a86e2",
      "metadata": {
        "colab": {
          "base_uri": "https://localhost:8080/",
          "height": 95
        },
        "id": "deca1ffb-29be-471d-a054-198c8a4a86e2",
        "outputId": "8f77ad56-335d-49bd-cf71-b8ac242fc1ba"
      },
      "outputs": [
        {
          "output_type": "display_data",
          "data": {
            "text/plain": [
              "<IPython.core.display.HTML object>"
            ],
            "text/html": [
              "\n",
              "     <input type=\"file\" id=\"files-b3792486-d2a9-444d-9720-a097970cd975\" name=\"files[]\" multiple disabled\n",
              "        style=\"border:none\" />\n",
              "     <output id=\"result-b3792486-d2a9-444d-9720-a097970cd975\">\n",
              "      Upload widget is only available when the cell has been executed in the\n",
              "      current browser session. Please rerun this cell to enable.\n",
              "      </output>\n",
              "      <script>// Copyright 2017 Google LLC\n",
              "//\n",
              "// Licensed under the Apache License, Version 2.0 (the \"License\");\n",
              "// you may not use this file except in compliance with the License.\n",
              "// You may obtain a copy of the License at\n",
              "//\n",
              "//      http://www.apache.org/licenses/LICENSE-2.0\n",
              "//\n",
              "// Unless required by applicable law or agreed to in writing, software\n",
              "// distributed under the License is distributed on an \"AS IS\" BASIS,\n",
              "// WITHOUT WARRANTIES OR CONDITIONS OF ANY KIND, either express or implied.\n",
              "// See the License for the specific language governing permissions and\n",
              "// limitations under the License.\n",
              "\n",
              "/**\n",
              " * @fileoverview Helpers for google.colab Python module.\n",
              " */\n",
              "(function(scope) {\n",
              "function span(text, styleAttributes = {}) {\n",
              "  const element = document.createElement('span');\n",
              "  element.textContent = text;\n",
              "  for (const key of Object.keys(styleAttributes)) {\n",
              "    element.style[key] = styleAttributes[key];\n",
              "  }\n",
              "  return element;\n",
              "}\n",
              "\n",
              "// Max number of bytes which will be uploaded at a time.\n",
              "const MAX_PAYLOAD_SIZE = 100 * 1024;\n",
              "\n",
              "function _uploadFiles(inputId, outputId) {\n",
              "  const steps = uploadFilesStep(inputId, outputId);\n",
              "  const outputElement = document.getElementById(outputId);\n",
              "  // Cache steps on the outputElement to make it available for the next call\n",
              "  // to uploadFilesContinue from Python.\n",
              "  outputElement.steps = steps;\n",
              "\n",
              "  return _uploadFilesContinue(outputId);\n",
              "}\n",
              "\n",
              "// This is roughly an async generator (not supported in the browser yet),\n",
              "// where there are multiple asynchronous steps and the Python side is going\n",
              "// to poll for completion of each step.\n",
              "// This uses a Promise to block the python side on completion of each step,\n",
              "// then passes the result of the previous step as the input to the next step.\n",
              "function _uploadFilesContinue(outputId) {\n",
              "  const outputElement = document.getElementById(outputId);\n",
              "  const steps = outputElement.steps;\n",
              "\n",
              "  const next = steps.next(outputElement.lastPromiseValue);\n",
              "  return Promise.resolve(next.value.promise).then((value) => {\n",
              "    // Cache the last promise value to make it available to the next\n",
              "    // step of the generator.\n",
              "    outputElement.lastPromiseValue = value;\n",
              "    return next.value.response;\n",
              "  });\n",
              "}\n",
              "\n",
              "/**\n",
              " * Generator function which is called between each async step of the upload\n",
              " * process.\n",
              " * @param {string} inputId Element ID of the input file picker element.\n",
              " * @param {string} outputId Element ID of the output display.\n",
              " * @return {!Iterable<!Object>} Iterable of next steps.\n",
              " */\n",
              "function* uploadFilesStep(inputId, outputId) {\n",
              "  const inputElement = document.getElementById(inputId);\n",
              "  inputElement.disabled = false;\n",
              "\n",
              "  const outputElement = document.getElementById(outputId);\n",
              "  outputElement.innerHTML = '';\n",
              "\n",
              "  const pickedPromise = new Promise((resolve) => {\n",
              "    inputElement.addEventListener('change', (e) => {\n",
              "      resolve(e.target.files);\n",
              "    });\n",
              "  });\n",
              "\n",
              "  const cancel = document.createElement('button');\n",
              "  inputElement.parentElement.appendChild(cancel);\n",
              "  cancel.textContent = 'Cancel upload';\n",
              "  const cancelPromise = new Promise((resolve) => {\n",
              "    cancel.onclick = () => {\n",
              "      resolve(null);\n",
              "    };\n",
              "  });\n",
              "\n",
              "  // Wait for the user to pick the files.\n",
              "  const files = yield {\n",
              "    promise: Promise.race([pickedPromise, cancelPromise]),\n",
              "    response: {\n",
              "      action: 'starting',\n",
              "    }\n",
              "  };\n",
              "\n",
              "  cancel.remove();\n",
              "\n",
              "  // Disable the input element since further picks are not allowed.\n",
              "  inputElement.disabled = true;\n",
              "\n",
              "  if (!files) {\n",
              "    return {\n",
              "      response: {\n",
              "        action: 'complete',\n",
              "      }\n",
              "    };\n",
              "  }\n",
              "\n",
              "  for (const file of files) {\n",
              "    const li = document.createElement('li');\n",
              "    li.append(span(file.name, {fontWeight: 'bold'}));\n",
              "    li.append(span(\n",
              "        `(${file.type || 'n/a'}) - ${file.size} bytes, ` +\n",
              "        `last modified: ${\n",
              "            file.lastModifiedDate ? file.lastModifiedDate.toLocaleDateString() :\n",
              "                                    'n/a'} - `));\n",
              "    const percent = span('0% done');\n",
              "    li.appendChild(percent);\n",
              "\n",
              "    outputElement.appendChild(li);\n",
              "\n",
              "    const fileDataPromise = new Promise((resolve) => {\n",
              "      const reader = new FileReader();\n",
              "      reader.onload = (e) => {\n",
              "        resolve(e.target.result);\n",
              "      };\n",
              "      reader.readAsArrayBuffer(file);\n",
              "    });\n",
              "    // Wait for the data to be ready.\n",
              "    let fileData = yield {\n",
              "      promise: fileDataPromise,\n",
              "      response: {\n",
              "        action: 'continue',\n",
              "      }\n",
              "    };\n",
              "\n",
              "    // Use a chunked sending to avoid message size limits. See b/62115660.\n",
              "    let position = 0;\n",
              "    do {\n",
              "      const length = Math.min(fileData.byteLength - position, MAX_PAYLOAD_SIZE);\n",
              "      const chunk = new Uint8Array(fileData, position, length);\n",
              "      position += length;\n",
              "\n",
              "      const base64 = btoa(String.fromCharCode.apply(null, chunk));\n",
              "      yield {\n",
              "        response: {\n",
              "          action: 'append',\n",
              "          file: file.name,\n",
              "          data: base64,\n",
              "        },\n",
              "      };\n",
              "\n",
              "      let percentDone = fileData.byteLength === 0 ?\n",
              "          100 :\n",
              "          Math.round((position / fileData.byteLength) * 100);\n",
              "      percent.textContent = `${percentDone}% done`;\n",
              "\n",
              "    } while (position < fileData.byteLength);\n",
              "  }\n",
              "\n",
              "  // All done.\n",
              "  yield {\n",
              "    response: {\n",
              "      action: 'complete',\n",
              "    }\n",
              "  };\n",
              "}\n",
              "\n",
              "scope.google = scope.google || {};\n",
              "scope.google.colab = scope.google.colab || {};\n",
              "scope.google.colab._files = {\n",
              "  _uploadFiles,\n",
              "  _uploadFilesContinue,\n",
              "};\n",
              "})(self);\n",
              "</script> "
            ]
          },
          "metadata": {}
        },
        {
          "output_type": "stream",
          "name": "stdout",
          "text": [
            "Saving model.keras to model (2).keras\n",
            "Fichier chargé : model (2).keras\n"
          ]
        }
      ],
      "source": [
        "uploaded = files.upload()\n",
        "for file_name, content in uploaded.items():\n",
        "    print(f\"Fichier chargé : {file_name}\")"
      ]
    },
    {
      "cell_type": "markdown",
      "id": "d3b52779-b64a-4d89-a6c4-4b3889ee4727",
      "metadata": {
        "id": "d3b52779-b64a-4d89-a6c4-4b3889ee4727"
      },
      "source": [
        "## Test de votre modèle entrainé"
      ]
    },
    {
      "cell_type": "code",
      "execution_count": 6,
      "id": "0f3ba2bb-22b2-45aa-85f0-d72527228137",
      "metadata": {
        "colab": {
          "base_uri": "https://localhost:8080/"
        },
        "id": "0f3ba2bb-22b2-45aa-85f0-d72527228137",
        "outputId": "330cf669-5065-403f-b939-28c5987d9170"
      },
      "outputs": [
        {
          "output_type": "stream",
          "name": "stdout",
          "text": [
            "\u001b[1m313/313\u001b[0m \u001b[32m━━━━━━━━━━━━━━━━━━━━\u001b[0m\u001b[37m\u001b[0m \u001b[1m8s\u001b[0m 24ms/step\n",
            "Justesse (accuracy) : 0.915\n",
            "                     precision    recall  f1-score   support\n",
            "\n",
            "  Bonhomme de neige       0.97      0.95      0.96      1000\n",
            "             Dragon       0.83      0.90      0.87      1000\n",
            "    Flocon de neige       0.95      0.93      0.94      1000\n",
            "           Montagne       0.89      0.96      0.92      1000\n",
            "Ordinateur portable       0.85      0.96      0.90      1000\n",
            "              Piano       0.98      0.72      0.83      1000\n",
            "           Pingouin       0.94      0.91      0.92      1000\n",
            "          Sac à dos       0.90      0.94      0.92      1000\n",
            "              Tente       0.91      0.91      0.91      1000\n",
            "               Vélo       0.97      0.97      0.97      1000\n",
            "\n",
            "           accuracy                           0.92     10000\n",
            "          macro avg       0.92      0.92      0.91     10000\n",
            "       weighted avg       0.92      0.92      0.91     10000\n",
            "\n"
          ]
        }
      ],
      "source": [
        "# Récupération des données\n",
        "labels = [\n",
        "    'Tente', 'Sac à dos', 'Piano', 'Pingouin', 'Dragon',\n",
        "    'Vélo', 'Bonhomme de neige', 'Flocon de neige', 'Ordinateur portable', 'Montagne'\n",
        "]\n",
        "data = np.load(\"dataset_evaluation.npz\")\n",
        "X = data['images'] / 255\n",
        "y_true = data['labels']\n",
        "\n",
        "# Encodage des étiquettes\n",
        "label_encoder = LabelEncoder()\n",
        "label_encoder.classes_ = np.array(labels)\n",
        "\n",
        "# Charger le modèle Keras\n",
        "model = load_model(file_name)\n",
        "\n",
        "# Prédictions\n",
        "y_pred_prob = model.predict(X)\n",
        "y_pred_encoded = np.argmax(y_pred_prob, axis=1)\n",
        "y_pred = label_encoder.inverse_transform(y_pred_encoded)\n",
        "\n",
        "# Calcul des métriques\n",
        "report = classification_report(y_true, y_pred)\n",
        "accuracy = accuracy_score(y_true, y_pred)\n",
        "\n",
        "# Résultats\n",
        "print(f\"Justesse (accuracy) : {accuracy}\")\n",
        "print(report)"
      ]
    },
    {
      "cell_type": "code",
      "source": [],
      "metadata": {
        "id": "1Vys5TONmojc"
      },
      "id": "1Vys5TONmojc",
      "execution_count": 5,
      "outputs": []
    }
  ],
  "metadata": {
    "kernelspec": {
      "display_name": "Python 3 (ipykernel)",
      "language": "python",
      "name": "python3"
    },
    "language_info": {
      "codemirror_mode": {
        "name": "ipython",
        "version": 3
      },
      "file_extension": ".py",
      "mimetype": "text/x-python",
      "name": "python",
      "nbconvert_exporter": "python",
      "pygments_lexer": "ipython3",
      "version": "3.11.5"
    },
    "colab": {
      "provenance": []
    }
  },
  "nbformat": 4,
  "nbformat_minor": 5
}