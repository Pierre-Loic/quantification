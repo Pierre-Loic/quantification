{
  "cells": [
    {
      "cell_type": "markdown",
      "id": "134aff8f-32b1-410d-ab65-d47cc6338227",
      "metadata": {
        "id": "134aff8f-32b1-410d-ab65-d47cc6338227"
      },
      "source": [
        "# 📒 Notebook d'évaluation du modèle (version Colab)\n",
        "\n",
        "Ce dernier a pour objectif de vous aider à **vérifier l'exportation correcte de votre modèle au format ONNX** et à valider la bonne généralisation de votre modèle. Pour l'évaluation finale, un autre jeu de données sera utilisé.\n",
        "\n",
        "⚠️ Ce notebook doit fonctionner sans aucune modification du code de ce notebook. Si une erreur survient, vérifiez attentivement la procédure utilisée pour convertir votre modèle au format ONNX.\n",
        "\n",
        "## 🛠️ Installation et importation des bibliothèques Python"
      ]
    },
    {
      "cell_type": "code",
      "execution_count": 1,
      "id": "8d44fd1a-cd54-4a9a-b5d5-1e7650571bae",
      "metadata": {
        "colab": {
          "base_uri": "https://localhost:8080/"
        },
        "id": "8d44fd1a-cd54-4a9a-b5d5-1e7650571bae",
        "outputId": "805c744e-8bed-4620-828d-e0a15643a639"
      },
      "outputs": [
        {
          "output_type": "stream",
          "name": "stdout",
          "text": [
            "Requirement already satisfied: onnxruntime in /usr/local/lib/python3.10/dist-packages (1.20.1)\n",
            "Requirement already satisfied: coloredlogs in /usr/local/lib/python3.10/dist-packages (from onnxruntime) (15.0.1)\n",
            "Requirement already satisfied: flatbuffers in /usr/local/lib/python3.10/dist-packages (from onnxruntime) (24.3.25)\n",
            "Requirement already satisfied: numpy>=1.21.6 in /usr/local/lib/python3.10/dist-packages (from onnxruntime) (1.26.4)\n",
            "Requirement already satisfied: packaging in /usr/local/lib/python3.10/dist-packages (from onnxruntime) (24.2)\n",
            "Requirement already satisfied: protobuf in /usr/local/lib/python3.10/dist-packages (from onnxruntime) (4.25.5)\n",
            "Requirement already satisfied: sympy in /usr/local/lib/python3.10/dist-packages (from onnxruntime) (1.13.1)\n",
            "Requirement already satisfied: humanfriendly>=9.1 in /usr/local/lib/python3.10/dist-packages (from coloredlogs->onnxruntime) (10.0)\n",
            "Requirement already satisfied: mpmath<1.4,>=1.1.0 in /usr/local/lib/python3.10/dist-packages (from sympy->onnxruntime) (1.3.0)\n"
          ]
        }
      ],
      "source": [
        "!pip install onnxruntime\n",
        "\n",
        "import urllib.request\n",
        "import onnxruntime as ort\n",
        "import numpy as np\n",
        "from sklearn.metrics import accuracy_score, classification_report\n",
        "import matplotlib.pyplot as plt\n",
        "from sklearn.preprocessing import LabelEncoder\n",
        "import ipywidgets as widgets\n",
        "from IPython.display import display\n",
        "from google.colab import files"
      ]
    },
    {
      "cell_type": "code",
      "execution_count": 2,
      "id": "d597d2f2-e91e-459a-baad-7ad1e058cc6a",
      "metadata": {
        "id": "d597d2f2-e91e-459a-baad-7ad1e058cc6a"
      },
      "outputs": [],
      "source": [
        "def to_categorical(y, num_classes=None, dtype='float32'):\n",
        "    \"\"\"\n",
        "    Convertit un vecteur de classes en une matrice d'encodage one-hot.\n",
        "\n",
        "    Args:\n",
        "        y (array-like): Vecteur d'étiquettes (entiers).\n",
        "        num_classes (int): Nombre total de classes. Si None, sera déterminé automatiquement.\n",
        "        dtype (str): Type des données de sortie (par défaut 'float32').\n",
        "\n",
        "    Returns:\n",
        "        numpy.ndarray: Matrice d'encodage one-hot.\n",
        "    \"\"\"\n",
        "    y = np.array(y, dtype='int')\n",
        "    if not num_classes:\n",
        "        num_classes = np.max(y) + 1\n",
        "    one_hot = np.zeros((y.shape[0], num_classes), dtype=dtype)\n",
        "    one_hot[np.arange(y.shape[0]), y] = 1\n",
        "    return one_hot"
      ]
    },
    {
      "cell_type": "markdown",
      "source": [
        "## Téléchargement du jeu de données d'évaluation"
      ],
      "metadata": {
        "id": "heXwmoDQh7eP"
      },
      "id": "heXwmoDQh7eP"
    },
    {
      "cell_type": "code",
      "source": [
        "file_url = \"https://gricad-gitlab.univ-grenoble-alpes.fr/phelma-sicom/2a/4pmsiia4-td/-/raw/main/content/3_mini-projet/dataset_evaluation.npz?ref_type=heads&inline=false\"\n",
        "local_filename = \"dataset_evaluation.npz\"\n",
        "urllib.request.urlretrieve(file_url, local_filename)\n",
        "print(f\"Fichier téléchargé : {local_filename}\")"
      ],
      "metadata": {
        "colab": {
          "base_uri": "https://localhost:8080/"
        },
        "id": "8q33FKzIgrWM",
        "outputId": "d24abe87-9a5c-41fc-f41f-f799f5688816"
      },
      "id": "8q33FKzIgrWM",
      "execution_count": 3,
      "outputs": [
        {
          "output_type": "stream",
          "name": "stdout",
          "text": [
            "Fichier téléchargé : dataset_evaluation.npz\n"
          ]
        }
      ]
    },
    {
      "cell_type": "markdown",
      "source": [
        "## Téléchargement de votre modèle entrainé\n",
        "\n",
        "Votre modèle doit être chargé au format **ONNX**."
      ],
      "metadata": {
        "id": "ZtVvYsiJiCs3"
      },
      "id": "ZtVvYsiJiCs3"
    },
    {
      "cell_type": "code",
      "source": [
        "uploaded = files.upload()\n",
        "for file_name, content in uploaded.items():\n",
        "    print(f\"Fichier chargé : {file_name}\")\n",
        "    try:\n",
        "        session = ort.InferenceSession(content)\n",
        "        print(\"Session ONNX Runtime créée avec succès !\")\n",
        "        input_names = [inp.name for inp in session.get_inputs()]\n",
        "        output_names = [out.name for out in session.get_outputs()]\n",
        "        print(f\"Entrées : {input_names}\")\n",
        "        print(f\"Sorties : {output_names}\")\n",
        "    except Exception as e:\n",
        "        print(f\"Erreur lors de la création de la session ONNX Runtime : {e}\")"
      ],
      "metadata": {
        "colab": {
          "base_uri": "https://localhost:8080/",
          "height": 150
        },
        "id": "mD5Gjp_ev27s",
        "outputId": "0df31508-abce-4abc-a4ef-444275903e86"
      },
      "id": "mD5Gjp_ev27s",
      "execution_count": 4,
      "outputs": [
        {
          "output_type": "display_data",
          "data": {
            "text/plain": [
              "<IPython.core.display.HTML object>"
            ],
            "text/html": [
              "\n",
              "     <input type=\"file\" id=\"files-00193dad-6e17-4d1c-937a-af4e2eafc13d\" name=\"files[]\" multiple disabled\n",
              "        style=\"border:none\" />\n",
              "     <output id=\"result-00193dad-6e17-4d1c-937a-af4e2eafc13d\">\n",
              "      Upload widget is only available when the cell has been executed in the\n",
              "      current browser session. Please rerun this cell to enable.\n",
              "      </output>\n",
              "      <script>// Copyright 2017 Google LLC\n",
              "//\n",
              "// Licensed under the Apache License, Version 2.0 (the \"License\");\n",
              "// you may not use this file except in compliance with the License.\n",
              "// You may obtain a copy of the License at\n",
              "//\n",
              "//      http://www.apache.org/licenses/LICENSE-2.0\n",
              "//\n",
              "// Unless required by applicable law or agreed to in writing, software\n",
              "// distributed under the License is distributed on an \"AS IS\" BASIS,\n",
              "// WITHOUT WARRANTIES OR CONDITIONS OF ANY KIND, either express or implied.\n",
              "// See the License for the specific language governing permissions and\n",
              "// limitations under the License.\n",
              "\n",
              "/**\n",
              " * @fileoverview Helpers for google.colab Python module.\n",
              " */\n",
              "(function(scope) {\n",
              "function span(text, styleAttributes = {}) {\n",
              "  const element = document.createElement('span');\n",
              "  element.textContent = text;\n",
              "  for (const key of Object.keys(styleAttributes)) {\n",
              "    element.style[key] = styleAttributes[key];\n",
              "  }\n",
              "  return element;\n",
              "}\n",
              "\n",
              "// Max number of bytes which will be uploaded at a time.\n",
              "const MAX_PAYLOAD_SIZE = 100 * 1024;\n",
              "\n",
              "function _uploadFiles(inputId, outputId) {\n",
              "  const steps = uploadFilesStep(inputId, outputId);\n",
              "  const outputElement = document.getElementById(outputId);\n",
              "  // Cache steps on the outputElement to make it available for the next call\n",
              "  // to uploadFilesContinue from Python.\n",
              "  outputElement.steps = steps;\n",
              "\n",
              "  return _uploadFilesContinue(outputId);\n",
              "}\n",
              "\n",
              "// This is roughly an async generator (not supported in the browser yet),\n",
              "// where there are multiple asynchronous steps and the Python side is going\n",
              "// to poll for completion of each step.\n",
              "// This uses a Promise to block the python side on completion of each step,\n",
              "// then passes the result of the previous step as the input to the next step.\n",
              "function _uploadFilesContinue(outputId) {\n",
              "  const outputElement = document.getElementById(outputId);\n",
              "  const steps = outputElement.steps;\n",
              "\n",
              "  const next = steps.next(outputElement.lastPromiseValue);\n",
              "  return Promise.resolve(next.value.promise).then((value) => {\n",
              "    // Cache the last promise value to make it available to the next\n",
              "    // step of the generator.\n",
              "    outputElement.lastPromiseValue = value;\n",
              "    return next.value.response;\n",
              "  });\n",
              "}\n",
              "\n",
              "/**\n",
              " * Generator function which is called between each async step of the upload\n",
              " * process.\n",
              " * @param {string} inputId Element ID of the input file picker element.\n",
              " * @param {string} outputId Element ID of the output display.\n",
              " * @return {!Iterable<!Object>} Iterable of next steps.\n",
              " */\n",
              "function* uploadFilesStep(inputId, outputId) {\n",
              "  const inputElement = document.getElementById(inputId);\n",
              "  inputElement.disabled = false;\n",
              "\n",
              "  const outputElement = document.getElementById(outputId);\n",
              "  outputElement.innerHTML = '';\n",
              "\n",
              "  const pickedPromise = new Promise((resolve) => {\n",
              "    inputElement.addEventListener('change', (e) => {\n",
              "      resolve(e.target.files);\n",
              "    });\n",
              "  });\n",
              "\n",
              "  const cancel = document.createElement('button');\n",
              "  inputElement.parentElement.appendChild(cancel);\n",
              "  cancel.textContent = 'Cancel upload';\n",
              "  const cancelPromise = new Promise((resolve) => {\n",
              "    cancel.onclick = () => {\n",
              "      resolve(null);\n",
              "    };\n",
              "  });\n",
              "\n",
              "  // Wait for the user to pick the files.\n",
              "  const files = yield {\n",
              "    promise: Promise.race([pickedPromise, cancelPromise]),\n",
              "    response: {\n",
              "      action: 'starting',\n",
              "    }\n",
              "  };\n",
              "\n",
              "  cancel.remove();\n",
              "\n",
              "  // Disable the input element since further picks are not allowed.\n",
              "  inputElement.disabled = true;\n",
              "\n",
              "  if (!files) {\n",
              "    return {\n",
              "      response: {\n",
              "        action: 'complete',\n",
              "      }\n",
              "    };\n",
              "  }\n",
              "\n",
              "  for (const file of files) {\n",
              "    const li = document.createElement('li');\n",
              "    li.append(span(file.name, {fontWeight: 'bold'}));\n",
              "    li.append(span(\n",
              "        `(${file.type || 'n/a'}) - ${file.size} bytes, ` +\n",
              "        `last modified: ${\n",
              "            file.lastModifiedDate ? file.lastModifiedDate.toLocaleDateString() :\n",
              "                                    'n/a'} - `));\n",
              "    const percent = span('0% done');\n",
              "    li.appendChild(percent);\n",
              "\n",
              "    outputElement.appendChild(li);\n",
              "\n",
              "    const fileDataPromise = new Promise((resolve) => {\n",
              "      const reader = new FileReader();\n",
              "      reader.onload = (e) => {\n",
              "        resolve(e.target.result);\n",
              "      };\n",
              "      reader.readAsArrayBuffer(file);\n",
              "    });\n",
              "    // Wait for the data to be ready.\n",
              "    let fileData = yield {\n",
              "      promise: fileDataPromise,\n",
              "      response: {\n",
              "        action: 'continue',\n",
              "      }\n",
              "    };\n",
              "\n",
              "    // Use a chunked sending to avoid message size limits. See b/62115660.\n",
              "    let position = 0;\n",
              "    do {\n",
              "      const length = Math.min(fileData.byteLength - position, MAX_PAYLOAD_SIZE);\n",
              "      const chunk = new Uint8Array(fileData, position, length);\n",
              "      position += length;\n",
              "\n",
              "      const base64 = btoa(String.fromCharCode.apply(null, chunk));\n",
              "      yield {\n",
              "        response: {\n",
              "          action: 'append',\n",
              "          file: file.name,\n",
              "          data: base64,\n",
              "        },\n",
              "      };\n",
              "\n",
              "      let percentDone = fileData.byteLength === 0 ?\n",
              "          100 :\n",
              "          Math.round((position / fileData.byteLength) * 100);\n",
              "      percent.textContent = `${percentDone}% done`;\n",
              "\n",
              "    } while (position < fileData.byteLength);\n",
              "  }\n",
              "\n",
              "  // All done.\n",
              "  yield {\n",
              "    response: {\n",
              "      action: 'complete',\n",
              "    }\n",
              "  };\n",
              "}\n",
              "\n",
              "scope.google = scope.google || {};\n",
              "scope.google.colab = scope.google.colab || {};\n",
              "scope.google.colab._files = {\n",
              "  _uploadFiles,\n",
              "  _uploadFilesContinue,\n",
              "};\n",
              "})(self);\n",
              "</script> "
            ]
          },
          "metadata": {}
        },
        {
          "output_type": "stream",
          "name": "stdout",
          "text": [
            "Saving model_lr.onnx to model_lr.onnx\n",
            "Fichier chargé : model_lr.onnx\n",
            "Session ONNX Runtime créée avec succès !\n",
            "Entrées : ['float_input']\n",
            "Sorties : ['output_label', 'output_probability']\n"
          ]
        }
      ]
    },
    {
      "cell_type": "markdown",
      "source": [
        "## Test de votre modèle entrainé"
      ],
      "metadata": {
        "id": "AMi51n-CiLVg"
      },
      "id": "AMi51n-CiLVg"
    },
    {
      "cell_type": "code",
      "execution_count": 5,
      "id": "0f3ba2bb-22b2-45aa-85f0-d72527228137",
      "metadata": {
        "colab": {
          "base_uri": "https://localhost:8080/"
        },
        "id": "0f3ba2bb-22b2-45aa-85f0-d72527228137",
        "outputId": "f41a458e-95ab-4e9a-8ac9-dd19898f9250"
      },
      "outputs": [
        {
          "output_type": "stream",
          "name": "stdout",
          "text": [
            "Justesse (accuracy) : 0.6823\n",
            "                     precision    recall  f1-score   support\n",
            "\n",
            "  Bonhomme de neige       0.85      0.80      0.82      1000\n",
            "             Dragon       0.45      0.59      0.51      1000\n",
            "    Flocon de neige       0.73      0.72      0.73      1000\n",
            "           Montagne       0.64      0.78      0.70      1000\n",
            "Ordinateur portable       0.68      0.80      0.73      1000\n",
            "              Piano       0.84      0.19      0.31      1000\n",
            "           Pingouin       0.76      0.79      0.77      1000\n",
            "          Sac à dos       0.67      0.72      0.69      1000\n",
            "              Tente       0.67      0.63      0.65      1000\n",
            "               Vélo       0.76      0.80      0.78      1000\n",
            "\n",
            "           accuracy                           0.68     10000\n",
            "          macro avg       0.70      0.68      0.67     10000\n",
            "       weighted avg       0.70      0.68      0.67     10000\n",
            "\n"
          ]
        }
      ],
      "source": [
        "labels = [\n",
        "    'Tente', 'Sac à dos', 'Piano', 'Pingouin', 'Dragon',\n",
        "    'Vélo', 'Bonhomme de neige', 'Flocon de neige', 'Ordinateur portable', 'Montagne'\n",
        "]\n",
        "data = np.load(\"dataset_evaluation.npz\")\n",
        "X = data['images']\n",
        "y_true = data['labels']\n",
        "label_encoder = LabelEncoder()\n",
        "label_encoder.fit(labels)\n",
        "input_name = session.get_inputs()[0].name\n",
        "try:\n",
        "    y_pred = session.run(None, {input_name: X.reshape(10000, -1).astype(np.float32)})[0]\n",
        "except:\n",
        "    pred = np.array(session.run(None, {input_name: X.astype(np.float32)}))\n",
        "    predicted_label_index = pred[0].argmax(axis=1)\n",
        "    y_pred = [labels[int(i)] for i in predicted_label_index]\n",
        "    y_true = label_encoder.transform(y_true)\n",
        "    y_true = to_categorical(y_true, num_classes=len(labels))\n",
        "    y_true = [labels[int(i)] for i in y_true.argmax(axis=1)]\n",
        "report = classification_report(y_true, y_pred)\n",
        "print(f\"Justesse (accuracy) : {accuracy_score(y_true, y_pred)}\")\n",
        "print(report)"
      ]
    },
    {
      "cell_type": "code",
      "execution_count": 5,
      "id": "4dfdca1e-e2e7-41b9-a6db-55c75af64a0b",
      "metadata": {
        "id": "4dfdca1e-e2e7-41b9-a6db-55c75af64a0b"
      },
      "outputs": [],
      "source": []
    }
  ],
  "metadata": {
    "kernelspec": {
      "display_name": "Python 3 (ipykernel)",
      "language": "python",
      "name": "python3"
    },
    "language_info": {
      "codemirror_mode": {
        "name": "ipython",
        "version": 3
      },
      "file_extension": ".py",
      "mimetype": "text/x-python",
      "name": "python",
      "nbconvert_exporter": "python",
      "pygments_lexer": "ipython3",
      "version": "3.11.5"
    },
    "colab": {
      "provenance": []
    }
  },
  "nbformat": 4,
  "nbformat_minor": 5
}