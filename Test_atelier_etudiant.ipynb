{
 "cells": [
  {
   "cell_type": "markdown",
   "id": "134aff8f-32b1-410d-ab65-d47cc6338227",
   "metadata": {},
   "source": [
    "# 📒 Notebook d'évaluation du modèle (version Colab)\n",
    "\n",
    "Ce dernier a pour objectif de vous aider à **vérifier l'exportation correcte de votre modèle au format ONNX** et à valider la bonne généralisation de votre modèle. Pour l'évaluation finale, un autre jeu de données sera utilisé.\n",
    "\n",
    "⚠️ Ce notebook doit fonctionner sans aucune modification du code de ce notebook. Si une erreur survient, vérifiez attentivement la procédure utilisée pour convertir votre modèle au format ONNX.\n",
    "\n",
    "## 🛠️ Installation et importation des bibliothèques Python"
   ]
  },
  {
   "cell_type": "code",
   "execution_count": null,
   "id": "8d44fd1a-cd54-4a9a-b5d5-1e7650571bae",
   "metadata": {},
   "outputs": [],
   "source": [
    "!pip install onnxruntime\n",
    "\n",
    "import urllib.request\n",
    "import onnxruntime as ort\n",
    "import numpy as np\n",
    "from sklearn.metrics import accuracy_score, classification_report\n",
    "import matplotlib.pyplot as plt\n",
    "from sklearn.preprocessing import LabelEncoder\n",
    "import ipywidgets as widgets\n",
    "from IPython.display import display\n",
    "from google.colab import files"
   ]
  },
  {
   "cell_type": "code",
   "execution_count": null,
   "id": "b5c8e628-e0ca-45cc-beab-88422f8897b5",
   "metadata": {},
   "outputs": [],
   "source": [
    "def to_categorical(y, num_classes=None, dtype='float32'):\n",
    "    \"\"\"\n",
    "    Convertit un vecteur de classes en une matrice d'encodage one-hot.\n",
    "\n",
    "    Args:\n",
    "        y (array-like): Vecteur d'étiquettes (entiers).\n",
    "        num_classes (int): Nombre total de classes. Si None, sera déterminé automatiquement.\n",
    "        dtype (str): Type des données de sortie (par défaut 'float32').\n",
    "\n",
    "    Returns:\n",
    "        numpy.ndarray: Matrice d'encodage one-hot.\n",
    "    \"\"\"\n",
    "    y = np.array(y, dtype='int')\n",
    "    if not num_classes:\n",
    "        num_classes = np.max(y) + 1\n",
    "    one_hot = np.zeros((y.shape[0], num_classes), dtype=dtype)\n",
    "    one_hot[np.arange(y.shape[0]), y] = 1\n",
    "    return one_hot"
   ]
  },
  {
   "cell_type": "markdown",
   "id": "955b265f-bf00-44aa-beb5-8de3b9a7f8bd",
   "metadata": {},
   "source": [
    "## Téléchargement du jeu de données d'évaluation"
   ]
  },
  {
   "cell_type": "code",
   "execution_count": null,
   "id": "7f12901d-3d21-40d6-adc3-a46b5c2aa4b9",
   "metadata": {},
   "outputs": [],
   "source": [
    "file_url = \"https://gricad-gitlab.univ-grenoble-alpes.fr/phelma-sicom/2a/4pmsiia4-td/-/raw/main/content/3_mini-projet/dataset_evaluation.npz?ref_type=heads&inline=false\"\n",
    "local_filename = \"dataset_evaluation.npz\"\n",
    "urllib.request.urlretrieve(file_url, local_filename)\n",
    "print(f\"Fichier téléchargé : {local_filename}\")"
   ]
  },
  {
   "cell_type": "markdown",
   "id": "a7b1c6f5-a803-43d4-b65a-d74b4e2f8ed7",
   "metadata": {},
   "source": [
    "## Téléchargement de votre modèle entrainé"
   ]
  },
  {
   "cell_type": "code",
   "execution_count": null,
   "id": "deca1ffb-29be-471d-a054-198c8a4a86e2",
   "metadata": {},
   "outputs": [],
   "source": [
    "uploaded = files.upload()\n",
    "for file_name, content in uploaded.items():\n",
    "    print(f\"Fichier chargé : {file_name}\")\n",
    "    try:\n",
    "        session = ort.InferenceSession(content)\n",
    "        print(\"Session ONNX Runtime créée avec succès !\")\n",
    "        input_names = [inp.name for inp in session.get_inputs()]\n",
    "        output_names = [out.name for out in session.get_outputs()]\n",
    "        print(f\"Entrées : {input_names}\")\n",
    "        print(f\"Sorties : {output_names}\")\n",
    "    except Exception as e:\n",
    "        print(f\"Erreur lors de la création de la session ONNX Runtime : {e}\")"
   ]
  },
  {
   "cell_type": "markdown",
   "id": "d3b52779-b64a-4d89-a6c4-4b3889ee4727",
   "metadata": {},
   "source": [
    "## Test de votre modèle entrainé"
   ]
  },
  {
   "cell_type": "code",
   "execution_count": null,
   "id": "0f3ba2bb-22b2-45aa-85f0-d72527228137",
   "metadata": {},
   "outputs": [],
   "source": [
    "# Récupération des données\n",
    "labels = [\n",
    "    'Tente', 'Sac à dos', 'Piano', 'Pingouin', 'Dragon', \n",
    "    'Vélo', 'Bonhomme de neige', 'Flocon de neige', 'Ordinateur portable', 'Montagne'\n",
    "]\n",
    "data = np.load(\"dataset_evaluation.npz\")\n",
    "X = data['images']\n",
    "y_true = data['labels']\n",
    "label_encoder = LabelEncoder()\n",
    "label_encoder.classes_ = np.array(labels)\n",
    "input_name = session.get_inputs()[0].name\n",
    "try:\n",
    "    y_pred = session.run(None, {input_name: X.reshape(10000, -1).astype(np.float32)})[0]\n",
    "except:\n",
    "    pred = np.array(session.run(None, {input_name: X.astype(np.float32)}))\n",
    "    predicted_label_index = pred[0].argmax(axis=1)\n",
    "    y_pred = [labels[int(i)] for i in predicted_label_index]\n",
    "    y_true = label_encoder.transform(y_true)\n",
    "    y_true = to_categorical(y_true, num_classes=len(labels))\n",
    "    y_true = [labels[int(i)] for i in y_true.argmax(axis=1)]\n",
    "report = classification_report(y_true, y_pred)\n",
    "print(f\"Justesse (accuracy) : {accuracy_score(y_true, y_pred)}\")\n",
    "print(report)"
   ]
  }
 ],
 "metadata": {
  "kernelspec": {
   "display_name": "Python 3 (ipykernel)",
   "language": "python",
   "name": "python3"
  },
  "language_info": {
   "codemirror_mode": {
    "name": "ipython",
    "version": 3
   },
   "file_extension": ".py",
   "mimetype": "text/x-python",
   "name": "python",
   "nbconvert_exporter": "python",
   "pygments_lexer": "ipython3",
   "version": "3.11.5"
  }
 },
 "nbformat": 4,
 "nbformat_minor": 5
}
